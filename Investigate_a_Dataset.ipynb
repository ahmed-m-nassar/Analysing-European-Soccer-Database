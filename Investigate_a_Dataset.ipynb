{
 "cells": [
  {
   "cell_type": "markdown",
   "metadata": {},
   "source": [
    "\n",
    "# Project: Investigate a Dataset - European Soccer Database\n",
    "\n",
    "## Table of Contents\n",
    "<ul>\n",
    "<li><a href=\"#intro\">Introduction</a></li>\n",
    "<li><a href=\"#wrangling\">Data Wrangling</a></li>\n",
    "<li><a href=\"#eda\">Exploratory Data Analysis</a></li>\n",
    "<li><a href=\"#conclusions\">Conclusions</a></li>\n",
    "</ul>"
   ]
  },
  {
   "cell_type": "markdown",
   "metadata": {},
   "source": [
    "<a id='intro'></a>\n",
    "## Introduction\n",
    "\n",
    "### Dataset Description \n",
    "\n",
    "The ultimate Soccer database for data analysis and machine learning : https://www.kaggle.com/hugomathien/soccer\n",
    "These are the tables and the columns we will need to answer our questions:\n",
    "\n",
    ">Match  \n",
    "\n",
    ">Team\n",
    "\n",
    "### Question(s) for Analysis\n",
    "We will try to answer the following quesions : \n",
    "> 1-Which team has the most number of wins every season ?\n",
    "\n",
    "> 2-Which team has the most number of losses every season ?\n",
    "\n",
    "> 3-How have teams improved from 2008/2009 to 2015/2016 season ?\n",
    "\n",
    "> 4-Which team have improved the most  2008/2009 to 2015/2016 season ? \n",
    "\n",
    "> 5-Which team have degraded the most  2008/2009 to 2015/2016 season ? \n"
   ]
  },
  {
   "cell_type": "code",
   "execution_count": 544,
   "metadata": {},
   "outputs": [],
   "source": [
    "#imports\n",
    "import pandas as pd\n",
    "import numpy as np\n",
    "import matplotlib.pyplot as plt\n",
    "import sqlite3\n",
    "\n",
    "%matplotlib inline\n"
   ]
  },
  {
   "cell_type": "markdown",
   "metadata": {},
   "source": [
    "<a id='wrangling'></a>\n",
    "## Data Wrangling\n",
    "\n",
    "> In the next section we will load our data and do the necessary cleaning for each table"
   ]
  },
  {
   "cell_type": "code",
   "execution_count": 545,
   "metadata": {},
   "outputs": [],
   "source": [
    "database_path = 'E:\\courses\\DataAnalysis\\Course2\\DataAnalysis\\project\\database\\database.sqlite'\n",
    "match_data_sql_query = 'select id , country_id , league_id , season , home_team_api_id , away_team_api_id , home_team_goal , away_team_goal from Match' \n",
    "team_data_sql_query = 'select * from Team'\n",
    "\n",
    "#connecting to the database\n",
    "connect = sqlite3.connect(database_path)\n",
    "  \n",
    "# getting tables data\n",
    "match_df = pd.read_sql(match_data_sql_query, connect)\n",
    "team_df = pd.read_sql(team_data_sql_query, connect)\n"
   ]
  },
  {
   "cell_type": "code",
   "execution_count": 546,
   "metadata": {},
   "outputs": [
    {
     "data": {
      "text/html": [
       "<div>\n",
       "<style scoped>\n",
       "    .dataframe tbody tr th:only-of-type {\n",
       "        vertical-align: middle;\n",
       "    }\n",
       "\n",
       "    .dataframe tbody tr th {\n",
       "        vertical-align: top;\n",
       "    }\n",
       "\n",
       "    .dataframe thead th {\n",
       "        text-align: right;\n",
       "    }\n",
       "</style>\n",
       "<table border=\"1\" class=\"dataframe\">\n",
       "  <thead>\n",
       "    <tr style=\"text-align: right;\">\n",
       "      <th></th>\n",
       "      <th>id</th>\n",
       "      <th>country_id</th>\n",
       "      <th>league_id</th>\n",
       "      <th>season</th>\n",
       "      <th>home_team_api_id</th>\n",
       "      <th>away_team_api_id</th>\n",
       "      <th>home_team_goal</th>\n",
       "      <th>away_team_goal</th>\n",
       "    </tr>\n",
       "  </thead>\n",
       "  <tbody>\n",
       "    <tr>\n",
       "      <th>0</th>\n",
       "      <td>1</td>\n",
       "      <td>1</td>\n",
       "      <td>1</td>\n",
       "      <td>2008/2009</td>\n",
       "      <td>9987</td>\n",
       "      <td>9993</td>\n",
       "      <td>1</td>\n",
       "      <td>1</td>\n",
       "    </tr>\n",
       "    <tr>\n",
       "      <th>1</th>\n",
       "      <td>2</td>\n",
       "      <td>1</td>\n",
       "      <td>1</td>\n",
       "      <td>2008/2009</td>\n",
       "      <td>10000</td>\n",
       "      <td>9994</td>\n",
       "      <td>0</td>\n",
       "      <td>0</td>\n",
       "    </tr>\n",
       "    <tr>\n",
       "      <th>2</th>\n",
       "      <td>3</td>\n",
       "      <td>1</td>\n",
       "      <td>1</td>\n",
       "      <td>2008/2009</td>\n",
       "      <td>9984</td>\n",
       "      <td>8635</td>\n",
       "      <td>0</td>\n",
       "      <td>3</td>\n",
       "    </tr>\n",
       "    <tr>\n",
       "      <th>3</th>\n",
       "      <td>4</td>\n",
       "      <td>1</td>\n",
       "      <td>1</td>\n",
       "      <td>2008/2009</td>\n",
       "      <td>9991</td>\n",
       "      <td>9998</td>\n",
       "      <td>5</td>\n",
       "      <td>0</td>\n",
       "    </tr>\n",
       "    <tr>\n",
       "      <th>4</th>\n",
       "      <td>5</td>\n",
       "      <td>1</td>\n",
       "      <td>1</td>\n",
       "      <td>2008/2009</td>\n",
       "      <td>7947</td>\n",
       "      <td>9985</td>\n",
       "      <td>1</td>\n",
       "      <td>3</td>\n",
       "    </tr>\n",
       "  </tbody>\n",
       "</table>\n",
       "</div>"
      ],
      "text/plain": [
       "   id  country_id  league_id     season  home_team_api_id  away_team_api_id  \\\n",
       "0   1           1          1  2008/2009              9987              9993   \n",
       "1   2           1          1  2008/2009             10000              9994   \n",
       "2   3           1          1  2008/2009              9984              8635   \n",
       "3   4           1          1  2008/2009              9991              9998   \n",
       "4   5           1          1  2008/2009              7947              9985   \n",
       "\n",
       "   home_team_goal  away_team_goal  \n",
       "0               1               1  \n",
       "1               0               0  \n",
       "2               0               3  \n",
       "3               5               0  \n",
       "4               1               3  "
      ]
     },
     "execution_count": 546,
     "metadata": {},
     "output_type": "execute_result"
    }
   ],
   "source": [
    "match_df.head()"
   ]
  },
  {
   "cell_type": "code",
   "execution_count": 547,
   "metadata": {},
   "outputs": [
    {
     "data": {
      "text/html": [
       "<div>\n",
       "<style scoped>\n",
       "    .dataframe tbody tr th:only-of-type {\n",
       "        vertical-align: middle;\n",
       "    }\n",
       "\n",
       "    .dataframe tbody tr th {\n",
       "        vertical-align: top;\n",
       "    }\n",
       "\n",
       "    .dataframe thead th {\n",
       "        text-align: right;\n",
       "    }\n",
       "</style>\n",
       "<table border=\"1\" class=\"dataframe\">\n",
       "  <thead>\n",
       "    <tr style=\"text-align: right;\">\n",
       "      <th></th>\n",
       "      <th>id</th>\n",
       "      <th>team_api_id</th>\n",
       "      <th>team_fifa_api_id</th>\n",
       "      <th>team_long_name</th>\n",
       "      <th>team_short_name</th>\n",
       "    </tr>\n",
       "  </thead>\n",
       "  <tbody>\n",
       "    <tr>\n",
       "      <th>0</th>\n",
       "      <td>1</td>\n",
       "      <td>9987</td>\n",
       "      <td>673.0</td>\n",
       "      <td>KRC Genk</td>\n",
       "      <td>GEN</td>\n",
       "    </tr>\n",
       "    <tr>\n",
       "      <th>1</th>\n",
       "      <td>2</td>\n",
       "      <td>9993</td>\n",
       "      <td>675.0</td>\n",
       "      <td>Beerschot AC</td>\n",
       "      <td>BAC</td>\n",
       "    </tr>\n",
       "    <tr>\n",
       "      <th>2</th>\n",
       "      <td>3</td>\n",
       "      <td>10000</td>\n",
       "      <td>15005.0</td>\n",
       "      <td>SV Zulte-Waregem</td>\n",
       "      <td>ZUL</td>\n",
       "    </tr>\n",
       "    <tr>\n",
       "      <th>3</th>\n",
       "      <td>4</td>\n",
       "      <td>9994</td>\n",
       "      <td>2007.0</td>\n",
       "      <td>Sporting Lokeren</td>\n",
       "      <td>LOK</td>\n",
       "    </tr>\n",
       "    <tr>\n",
       "      <th>4</th>\n",
       "      <td>5</td>\n",
       "      <td>9984</td>\n",
       "      <td>1750.0</td>\n",
       "      <td>KSV Cercle Brugge</td>\n",
       "      <td>CEB</td>\n",
       "    </tr>\n",
       "  </tbody>\n",
       "</table>\n",
       "</div>"
      ],
      "text/plain": [
       "   id  team_api_id  team_fifa_api_id     team_long_name team_short_name\n",
       "0   1         9987             673.0           KRC Genk             GEN\n",
       "1   2         9993             675.0       Beerschot AC             BAC\n",
       "2   3        10000           15005.0   SV Zulte-Waregem             ZUL\n",
       "3   4         9994            2007.0   Sporting Lokeren             LOK\n",
       "4   5         9984            1750.0  KSV Cercle Brugge             CEB"
      ]
     },
     "execution_count": 547,
     "metadata": {},
     "output_type": "execute_result"
    }
   ],
   "source": [
    "team_df.head()"
   ]
  },
  {
   "cell_type": "markdown",
   "metadata": {},
   "source": [
    "\n",
    "### Data Cleaning\n",
    "> After we loaded our data we will clean our data from dublicated and null values\n",
    " "
   ]
  },
  {
   "cell_type": "code",
   "execution_count": 548,
   "metadata": {},
   "outputs": [
    {
     "name": "stdout",
     "output_type": "stream",
     "text": [
      "<class 'pandas.core.frame.DataFrame'>\n",
      "RangeIndex: 25979 entries, 0 to 25978\n",
      "Data columns (total 8 columns):\n",
      " #   Column            Non-Null Count  Dtype \n",
      "---  ------            --------------  ----- \n",
      " 0   id                25979 non-null  int64 \n",
      " 1   country_id        25979 non-null  int64 \n",
      " 2   league_id         25979 non-null  int64 \n",
      " 3   season            25979 non-null  object\n",
      " 4   home_team_api_id  25979 non-null  int64 \n",
      " 5   away_team_api_id  25979 non-null  int64 \n",
      " 6   home_team_goal    25979 non-null  int64 \n",
      " 7   away_team_goal    25979 non-null  int64 \n",
      "dtypes: int64(7), object(1)\n",
      "memory usage: 1.6+ MB\n"
     ]
    },
    {
     "data": {
      "text/plain": [
       "0"
      ]
     },
     "execution_count": 548,
     "metadata": {},
     "output_type": "execute_result"
    }
   ],
   "source": [
    "#no need to clean match table as there is no null or dublicated values\n",
    "match_df.info()\n",
    "sum(match_df.duplicated())"
   ]
  },
  {
   "cell_type": "markdown",
   "metadata": {},
   "source": [
    "No dublicated data and no missing values exist in our table , no need for cleaning"
   ]
  },
  {
   "cell_type": "code",
   "execution_count": 549,
   "metadata": {},
   "outputs": [
    {
     "name": "stdout",
     "output_type": "stream",
     "text": [
      "<class 'pandas.core.frame.DataFrame'>\n",
      "RangeIndex: 299 entries, 0 to 298\n",
      "Data columns (total 5 columns):\n",
      " #   Column            Non-Null Count  Dtype  \n",
      "---  ------            --------------  -----  \n",
      " 0   id                299 non-null    int64  \n",
      " 1   team_api_id       299 non-null    int64  \n",
      " 2   team_fifa_api_id  288 non-null    float64\n",
      " 3   team_long_name    299 non-null    object \n",
      " 4   team_short_name   299 non-null    object \n",
      "dtypes: float64(1), int64(2), object(2)\n",
      "memory usage: 11.8+ KB\n"
     ]
    }
   ],
   "source": [
    "team_df.info()  #no need to use team_fifa_api_id column , so we will drop it"
   ]
  },
  {
   "cell_type": "markdown",
   "metadata": {},
   "source": [
    "team_fifa_api_id  has alot of missing values and it`s not needed in our analysis so we will drop it"
   ]
  },
  {
   "cell_type": "code",
   "execution_count": 550,
   "metadata": {},
   "outputs": [],
   "source": [
    "#Dropping team_fifa_api_id column\n",
    "dropped_columns = ['team_fifa_api_id' ]"
   ]
  },
  {
   "cell_type": "code",
   "execution_count": 551,
   "metadata": {},
   "outputs": [
    {
     "data": {
      "text/plain": [
       "0"
      ]
     },
     "execution_count": 551,
     "metadata": {},
     "output_type": "execute_result"
    }
   ],
   "source": [
    "sum(team_df.duplicated()) # 0 duplicates , no need to drop duplicates"
   ]
  },
  {
   "cell_type": "markdown",
   "metadata": {},
   "source": [
    "No dublicate values"
   ]
  },
  {
   "cell_type": "markdown",
   "metadata": {},
   "source": [
    "### Transforming and adding data to our table to help in our analysis"
   ]
  },
  {
   "cell_type": "code",
   "execution_count": 552,
   "metadata": {},
   "outputs": [],
   "source": [
    "# Adding a column to specify which team have won the match\n",
    "# we will put the id of the team winning , if it`s a draw we will put -1\n",
    "match_df['winning_team_api_id'] = match_df['home_team_api_id']\n",
    "match_df.loc[match_df['home_team_goal'] < match_df['away_team_goal'], 'winning_team_api_id'] = match_df['away_team_api_id']\n",
    "match_df.loc[match_df['home_team_goal'] == match_df['away_team_goal'], 'winning_team_api_id'] = -1"
   ]
  },
  {
   "cell_type": "markdown",
   "metadata": {},
   "source": [
    "We added a new column in match table which specifies which team have won the match"
   ]
  },
  {
   "cell_type": "code",
   "execution_count": 553,
   "metadata": {},
   "outputs": [],
   "source": [
    "# Adding a column to specify which team have lost the match\n",
    "# we will put the id of the team losing , if it`s a draw we will put -1\n",
    "match_df['losing_team_api_id'] = match_df['away_team_api_id']\n",
    "match_df.loc[match_df['home_team_goal'] < match_df['away_team_goal'], 'losing_team_api_id'] = match_df['home_team_api_id']\n",
    "match_df.loc[match_df['home_team_goal'] == match_df['away_team_goal'], 'losing_team_api_id'] = -1\n"
   ]
  },
  {
   "cell_type": "markdown",
   "metadata": {},
   "source": [
    "We added a new column in match table which specifies which team have lost the match"
   ]
  },
  {
   "cell_type": "markdown",
   "metadata": {},
   "source": [
    "<a id='eda'></a>\n",
    "## Exploratory Data Analysis\n",
    "\n",
    "> Now we will try to answer our questions in the introduction\n",
    "\n",
    "\n",
    "### Research Question 1 : Which team has the most number of wins every season ?  \n",
    "### Research Question 2 : Which team has the most number of losses every season ?    "
   ]
  },
  {
   "cell_type": "code",
   "execution_count": 554,
   "metadata": {},
   "outputs": [],
   "source": [
    "\n",
    "def arr_to_str(arr) :\n",
    "    \"\"\"\n",
    "    Converts an array to string\n",
    "    Arguments:\n",
    "        arr: the array to be converted to string\n",
    "    Returns:\n",
    "        The elements of the array in one string separated by line\n",
    "    \"\"\"\n",
    "    s = \"\"\n",
    "    for i in arr :\n",
    "        s += i\n",
    "        s += '\\n'\n",
    "    \n",
    "    return s"
   ]
  },
  {
   "cell_type": "markdown",
   "metadata": {},
   "source": [
    "First let`s explore our data and check How many goals are scored in different fields ('Home' , 'Away')"
   ]
  },
  {
   "cell_type": "code",
   "execution_count": 555,
   "metadata": {},
   "outputs": [
    {
     "data": {
      "text/plain": [
       "count    25979.000000\n",
       "mean         1.544594\n",
       "std          1.297158\n",
       "min          0.000000\n",
       "25%          1.000000\n",
       "50%          1.000000\n",
       "75%          2.000000\n",
       "max         10.000000\n",
       "Name: home_team_goal, dtype: float64"
      ]
     },
     "execution_count": 555,
     "metadata": {},
     "output_type": "execute_result"
    }
   ],
   "source": [
    "match_df['home_team_goal'].describe()"
   ]
  },
  {
   "cell_type": "markdown",
   "metadata": {},
   "source": [
    "Mean of number of goals scored in Home field = 1.7322911829954084"
   ]
  },
  {
   "cell_type": "code",
   "execution_count": 556,
   "metadata": {},
   "outputs": [
    {
     "data": {
      "text/plain": [
       "count    25979.000000\n",
       "mean         1.160938\n",
       "std          1.142110\n",
       "min          0.000000\n",
       "25%          0.000000\n",
       "50%          1.000000\n",
       "75%          2.000000\n",
       "max          9.000000\n",
       "Name: away_team_goal, dtype: float64"
      ]
     },
     "execution_count": 556,
     "metadata": {},
     "output_type": "execute_result"
    }
   ],
   "source": [
    "match_df['away_team_goal'].describe()"
   ]
  },
  {
   "cell_type": "markdown",
   "metadata": {},
   "source": [
    "Mean of number of goals scored in Away field = 1.2180776969509364"
   ]
  },
  {
   "cell_type": "code",
   "execution_count": 557,
   "metadata": {},
   "outputs": [],
   "source": [
    "match_df = match_df.drop(match_df[match_df['losing_team_api_id'] == -1].index)\n",
    "match_df = match_df.drop(match_df[match_df['winning_team_api_id'] == -1].index)"
   ]
  },
  {
   "cell_type": "code",
   "execution_count": 558,
   "metadata": {},
   "outputs": [],
   "source": [
    "#getting names of the teams with most wins every season\n",
    "most_winning_teams = match_df.groupby('season')['winning_team_api_id'].agg(pd.Series.mode) #teams with the most wins\n",
    "most_wins_count = match_df.groupby(['season','winning_team_api_id']).count() #count of number of wins every season\n",
    "most_wins_seasons = most_wins_count.groupby('season')['id'].max().keys() #names of the seasons\n",
    "most_wins_count = most_wins_count.groupby('season')['id'].max().values #count of max number of wins every season\n"
   ]
  },
  {
   "cell_type": "code",
   "execution_count": 559,
   "metadata": {},
   "outputs": [],
   "source": [
    "most_losing_teams = match_df.groupby('season')['losing_team_api_id'].agg(pd.Series.mode) #teams with the most losses\n",
    "most_losses_count = match_df.groupby(['season','losing_team_api_id']).count() #count of number of losses every season\n",
    "most_losses_seasons = most_losses_count.groupby('season')['id'].max().keys() #names of the seasons\n",
    "most_losses_count = most_losses_count.groupby('season')['id'].max().values #count of max number of losses every season\n"
   ]
  },
  {
   "cell_type": "code",
   "execution_count": 560,
   "metadata": {},
   "outputs": [
    {
     "data": {
      "text/plain": [
       "array([array(['Manchester United'], dtype=object),\n",
       "       array(['Real Madrid CF', 'FC Barcelona'], dtype=object),\n",
       "       array(['Rangers', 'FC Barcelona'], dtype=object),\n",
       "       array(['Real Madrid CF'], dtype=object),\n",
       "       array(['FC Barcelona'], dtype=object),\n",
       "       array(['Juventus'], dtype=object),\n",
       "       array(['Real Madrid CF', 'FC Barcelona'], dtype=object),\n",
       "       array(['Paris Saint-Germain'], dtype=object)], dtype=object)"
      ]
     },
     "execution_count": 560,
     "metadata": {},
     "output_type": "execute_result"
    }
   ],
   "source": [
    "#Getting the team name from the team id\n",
    "most_winning_teams_names = np.empty(len(most_winning_teams.values) , dtype = object)\n",
    "i = 0\n",
    "for id in most_winning_teams :\n",
    "    if type(id) is np.int64:\n",
    "        most_winning_teams_names[i] = team_df[team_df['team_api_id'] == id]['team_long_name'].values \n",
    "    else :\n",
    "        most_winning_teams_names[i] = team_df[team_df['team_api_id'].isin(id)]['team_long_name'].values\n",
    "    i += 1\n",
    "most_winning_teams_names\n"
   ]
  },
  {
   "cell_type": "code",
   "execution_count": 561,
   "metadata": {},
   "outputs": [
    {
     "data": {
      "text/plain": [
       "array([array(['Le Havre AC'], dtype=object),\n",
       "       array(['RKC Waalwijk'], dtype=object),\n",
       "       array(['Willem II', 'VVV-Venlo'], dtype=object),\n",
       "       array(['Blackburn Rovers', 'Wolverhampton Wanderers', 'Excelsior',\n",
       "              'Dunfermline Athletic'], dtype=object)                     ,\n",
       "       array(['Pescara'], dtype=object),\n",
       "       array(['FC Lausanne-Sports'], dtype=object),\n",
       "       array(['St. Mirren'], dtype=object),\n",
       "       array(['Aston Villa'], dtype=object)], dtype=object)"
      ]
     },
     "execution_count": 561,
     "metadata": {},
     "output_type": "execute_result"
    }
   ],
   "source": [
    "#Getting the team name from the team id\n",
    "most_losing_teams_names = np.empty(len(most_losing_teams.values) , dtype = object)\n",
    "i = 0\n",
    "for id in most_losing_teams :\n",
    "    if type(id) is np.int64:\n",
    "        most_losing_teams_names[i] = team_df[team_df['team_api_id'] == id]['team_long_name'].values\n",
    "    else :\n",
    "        most_losing_teams_names[i] = team_df[team_df['team_api_id'].isin(id)]['team_long_name'].values\n",
    "    i += 1\n",
    "most_losing_teams_names\n"
   ]
  },
  {
   "cell_type": "code",
   "execution_count": 562,
   "metadata": {},
   "outputs": [],
   "source": [
    "#converting teams names from array format to string format to prepare for plot\n",
    "i = 0\n",
    "for name in most_winning_teams_names :\n",
    "    most_winning_teams_names[i] = arr_to_str(name)\n",
    "    i += 1\n",
    "i=0\n",
    "for name in most_losing_teams_names :\n",
    "    most_losing_teams_names[i] = arr_to_str(name)\n",
    "    i += 1\n"
   ]
  },
  {
   "cell_type": "code",
   "execution_count": 563,
   "metadata": {},
   "outputs": [
    {
     "data": {
      "image/png": "[encoded data removed]",
      "text/plain": [
       "<Figure size 1584x720 with 1 Axes>"
      ]
     },
     "metadata": {
      "needs_background": "light"
     },
     "output_type": "display_data"
    }
   ],
   "source": [
    "# preparing data for plotting\n",
    "#Heights\n",
    "frequencies = most_wins_count\n",
    "freq_series = pd.Series(frequencies)\n",
    "#x axis labels\n",
    "x_labels = most_winning_teams_names\n",
    "\n",
    "# Plot the figure.\n",
    "plt.figure(figsize=(22, 10))\n",
    "ax = freq_series.plot(kind=\"bar\")\n",
    "ax.set_title(\"Top teams wins every season\")\n",
    "ax.set_xlabel(\"Teams names\")\n",
    "ax.set_ylabel(\"Number of wins\")\n",
    "ax.set_xticklabels(x_labels , rotation = 0)\n",
    "\n",
    "rects = ax.patches\n",
    "\n",
    "# Make some labels.\n",
    "labels = most_wins_seasons\n",
    "\n",
    "#Adding labels for seasons names inside the bars\n",
    "for rect, label in zip(rects, labels):\n",
    "    height = rect.get_height()\n",
    "    ax.text(\n",
    "        rect.get_x() + rect.get_width() / 2, height - height/2 , label, ha=\"center\", va=\"bottom\"\n",
    "    )\n",
    "\n",
    "#Adding labels for number of wins count over the bars\n",
    "for rect, frequency in zip(rects, frequencies):\n",
    "    height = rect.get_height()\n",
    "    ax.text(\n",
    "        rect.get_x() + rect.get_width() / 2, height , frequency, ha=\"center\", va=\"bottom\"\n",
    "    )\n",
    "        \n",
    "\n",
    "\n",
    "plt.show()"
   ]
  },
  {
   "cell_type": "markdown",
   "metadata": {},
   "source": [
    "<a id = 'Top_teams_wins_every_season' ></a>\n",
    "In the previews bar plot we showed which teams have the most number of wins every season , where in each bar we show the season year and the team which had the most number of wins and the number of wins it had that season \n",
    "\n",
    "For example : Manchester United was the team that had the most number of wins in 2008/2009 with 28 wins"
   ]
  },
  {
   "cell_type": "code",
   "execution_count": 564,
   "metadata": {},
   "outputs": [
    {
     "data": {
      "image/png": "[encoded data removed]",
      "text/plain": [
       "<Figure size 1584x720 with 1 Axes>"
      ]
     },
     "metadata": {
      "needs_background": "light"
     },
     "output_type": "display_data"
    }
   ],
   "source": [
    "# Bring some raw data.\n",
    "frequencies = most_losses_count\n",
    "# In my original code I create a series and run on that,\n",
    "# so for consistency I create a series from the list.\n",
    "freq_series = pd.Series(frequencies)\n",
    "\n",
    "x_labels = most_losing_teams_names\n",
    "\n",
    "# Plot the figure.\n",
    "plt.figure(figsize=(22, 10))\n",
    "ax = freq_series.plot(kind=\"bar\")\n",
    "ax.set_title(\"Top teams losses every season\")\n",
    "ax.set_xlabel(\"Teams names\")\n",
    "ax.set_ylabel(\"Number of losses\")\n",
    "ax.set_xticklabels(x_labels , rotation = 0)\n",
    "\n",
    "rects = ax.patches\n",
    "\n",
    "# Make some labels.\n",
    "labels = most_losses_seasons\n",
    "\n",
    "for rect, label in zip(rects, labels):\n",
    "    height = rect.get_height()\n",
    "    ax.text(\n",
    "        rect.get_x() + rect.get_width() / 2, height - height/2 , label, ha=\"center\", va=\"bottom\"\n",
    "    )\n",
    "    \n",
    "for rect, frequency in zip(rects, frequencies):\n",
    "    height = rect.get_height()\n",
    "    ax.text(\n",
    "        rect.get_x() + rect.get_width() / 2, height , frequency, ha=\"center\", va=\"bottom\"\n",
    "    )\n",
    "        \n",
    "\n",
    "\n",
    "plt.show()"
   ]
  },
  {
   "cell_type": "markdown",
   "metadata": {},
   "source": [
    "<a id = 'Top_teams_losses_every_season' ></a>\n",
    "\n",
    "In the previews bar plot we showed which teams have the most number of losses every season , where in each bar we show the season year and the team which had the most number of wins and the number of losses it had that season\n",
    "\n",
    "For example : Le Havre AC was the team that had the most number of Losses in 2008/2009 with 26 losses"
   ]
  },
  {
   "cell_type": "markdown",
   "metadata": {},
   "source": [
    "### Research Question 3-How have teams improved from 2008/2009 to 2015/2016 season ?"
   ]
  },
  {
   "cell_type": "code",
   "execution_count": 565,
   "metadata": {},
   "outputs": [],
   "source": [
    "#getting the count of wins of each team \n",
    "teams_wins_count = match_df.groupby(['season','winning_team_api_id']).count()['id'].reset_index()\n",
    "teams_wins_count = teams_wins_count.rename(columns = {'id' : 'wins_count' , 'winning_team_api_id':'team_api_id'})\n",
    "\n",
    "#getting the count of wins in 2008/2009 and 2015/2016 seasons\n",
    "teams_wins_count_2008 = teams_wins_count.query(\"season == '2008/2009'\")\n",
    "teams_wins_count_2008 = teams_wins_count_2008.rename(columns = {'wins_count' : 'wins_count_2008'})\n",
    "teams_wins_count_2016 =  teams_wins_count.query(\"season == '2015/2016'\")\n",
    "teams_wins_count_2016 = teams_wins_count_2016.rename(columns = {'wins_count' : 'wins_count_2016'})"
   ]
  },
  {
   "cell_type": "markdown",
   "metadata": {},
   "source": [
    "Let`s see the distribution of number of wins in both seasons"
   ]
  },
  {
   "cell_type": "code",
   "execution_count": 566,
   "metadata": {},
   "outputs": [
    {
     "data": {
      "text/plain": [
       "Text(0, 0.5, 'Number of wins')"
      ]
     },
     "execution_count": 566,
     "metadata": {},
     "output_type": "execute_result"
    },
    {
     "data": {
      "image/png": "[encoded data removed]",
      "text/plain": [
       "<Figure size 432x288 with 1 Axes>"
      ]
     },
     "metadata": {
      "needs_background": "light"
     },
     "output_type": "display_data"
    }
   ],
   "source": [
    "teams_wins_count_2008['wins_count_2008'].plot(kind = 'hist' , \n",
    "                                             grid = True ,\n",
    "                                             title = '2008/2009 season number of wins distribution')\n",
    "plt.xlabel('Number of teams')\n",
    "plt.ylabel('Number of wins')"
   ]
  },
  {
   "cell_type": "code",
   "execution_count": 567,
   "metadata": {},
   "outputs": [
    {
     "data": {
      "text/plain": [
       "Text(0, 0.5, 'Number of wins')"
      ]
     },
     "execution_count": 567,
     "metadata": {},
     "output_type": "execute_result"
    },
    {
     "data": {
      "image/png": "[encoded data removed]",
      "text/plain": [
       "<Figure size 432x288 with 1 Axes>"
      ]
     },
     "metadata": {
      "needs_background": "light"
     },
     "output_type": "display_data"
    }
   ],
   "source": [
    "teams_wins_count_2016['wins_count_2016'].plot(kind = 'hist' , \n",
    "                                             grid = True ,\n",
    "                                             title = '2015/2016 season number of wins distribution')\n",
    "plt.xlabel('Number of teams')\n",
    "plt.ylabel('Number of wins')"
   ]
  },
  {
   "cell_type": "markdown",
   "metadata": {},
   "source": [
    "<a id = 'season_wins_distribution' ></a>\n",
    "\n",
    "As we can see from the previews two distributions , the distribution of number of wins in both seasons is almost the same in the center of the distribution , but it has slight differences on the edges"
   ]
  },
  {
   "cell_type": "code",
   "execution_count": 568,
   "metadata": {},
   "outputs": [
    {
     "data": {
      "text/html": [
       "<div>\n",
       "<style scoped>\n",
       "    .dataframe tbody tr th:only-of-type {\n",
       "        vertical-align: middle;\n",
       "    }\n",
       "\n",
       "    .dataframe tbody tr th {\n",
       "        vertical-align: top;\n",
       "    }\n",
       "\n",
       "    .dataframe thead th {\n",
       "        text-align: right;\n",
       "    }\n",
       "</style>\n",
       "<table border=\"1\" class=\"dataframe\">\n",
       "  <thead>\n",
       "    <tr style=\"text-align: right;\">\n",
       "      <th></th>\n",
       "      <th>team_api_id</th>\n",
       "      <th>wins_count_2008</th>\n",
       "      <th>wins_count_2016</th>\n",
       "    </tr>\n",
       "  </thead>\n",
       "  <tbody>\n",
       "    <tr>\n",
       "      <th>0</th>\n",
       "      <td>1601</td>\n",
       "      <td>9</td>\n",
       "      <td>11</td>\n",
       "    </tr>\n",
       "    <tr>\n",
       "      <th>1</th>\n",
       "      <td>1957</td>\n",
       "      <td>9</td>\n",
       "      <td>10</td>\n",
       "    </tr>\n",
       "    <tr>\n",
       "      <th>2</th>\n",
       "      <td>2182</td>\n",
       "      <td>16</td>\n",
       "      <td>13</td>\n",
       "    </tr>\n",
       "    <tr>\n",
       "      <th>3</th>\n",
       "      <td>2186</td>\n",
       "      <td>7</td>\n",
       "      <td>12</td>\n",
       "    </tr>\n",
       "    <tr>\n",
       "      <th>4</th>\n",
       "      <td>6403</td>\n",
       "      <td>9</td>\n",
       "      <td>13</td>\n",
       "    </tr>\n",
       "    <tr>\n",
       "      <th>...</th>\n",
       "      <td>...</td>\n",
       "      <td>...</td>\n",
       "      <td>...</td>\n",
       "    </tr>\n",
       "    <tr>\n",
       "      <th>126</th>\n",
       "      <td>10261</td>\n",
       "      <td>7</td>\n",
       "      <td>9</td>\n",
       "    </tr>\n",
       "    <tr>\n",
       "      <th>127</th>\n",
       "      <td>10264</td>\n",
       "      <td>13</td>\n",
       "      <td>16</td>\n",
       "    </tr>\n",
       "    <tr>\n",
       "      <th>128</th>\n",
       "      <td>10265</td>\n",
       "      <td>19</td>\n",
       "      <td>8</td>\n",
       "    </tr>\n",
       "    <tr>\n",
       "      <th>129</th>\n",
       "      <td>10267</td>\n",
       "      <td>18</td>\n",
       "      <td>11</td>\n",
       "    </tr>\n",
       "    <tr>\n",
       "      <th>130</th>\n",
       "      <td>10269</td>\n",
       "      <td>19</td>\n",
       "      <td>9</td>\n",
       "    </tr>\n",
       "  </tbody>\n",
       "</table>\n",
       "<p>131 rows × 3 columns</p>\n",
       "</div>"
      ],
      "text/plain": [
       "     team_api_id  wins_count_2008  wins_count_2016\n",
       "0           1601                9               11\n",
       "1           1957                9               10\n",
       "2           2182               16               13\n",
       "3           2186                7               12\n",
       "4           6403                9               13\n",
       "..           ...              ...              ...\n",
       "126        10261                7                9\n",
       "127        10264               13               16\n",
       "128        10265               19                8\n",
       "129        10267               18               11\n",
       "130        10269               19                9\n",
       "\n",
       "[131 rows x 3 columns]"
      ]
     },
     "execution_count": 568,
     "metadata": {},
     "output_type": "execute_result"
    }
   ],
   "source": [
    "#adding the count of wins in 2008/2009 and 2015/2016 seasons in the same row\n",
    "team_wins_count_2008_2016 = pd.merge(teams_wins_count_2008,teams_wins_count_2016, how = 'inner' ,left_on=['team_api_id'] , right_on=['team_api_id'])\n",
    "dropped_columns = ['season_x' , 'season_y']\n",
    "team_wins_count_2008_2016.drop(dropped_columns , axis = 1 , inplace = True)\n",
    "team_wins_count_2008_2016"
   ]
  },
  {
   "cell_type": "code",
   "execution_count": 569,
   "metadata": {},
   "outputs": [
    {
     "data": {
      "image/png": "[encoded data removed]",
      "text/plain": [
       "<Figure size 432x288 with 1 Axes>"
      ]
     },
     "metadata": {
      "needs_background": "light"
     },
     "output_type": "display_data"
    }
   ],
   "source": [
    "#calculating the improvement\n",
    "team_wins_count_2008_2016['improvement'] = team_wins_count_2008_2016['wins_count_2016']/team_wins_count_2008_2016['wins_count_2008']\n",
    "team_wins_count_2008_2016['improvement'] = team_wins_count_2008_2016['improvement']*100 - 100\n",
    "team_wins_count_2008_2016['improvement'].plot(kind = 'hist' ,\n",
    "                                              grid = True,\n",
    "                                             title = 'Distribution of improvement Of teams from 2008/2009 to 2015/2016');\n",
    "plt.xlabel('Percentage of improvement')\n",
    "plt.ylabel('Number of teams')\n",
    "plt.show()"
   ]
  },
  {
   "cell_type": "markdown",
   "metadata": {},
   "source": [
    "<a id = 'improvements_distribution' ></a>\n",
    "\n",
    "In this plot we show the distribution of how the teams improved over the years from 2008/2009 season to 2015/2016 season \n",
    "where in x axis we show the percentage of improvement and in y axis we show how many teams had this amount of improvement.\n",
    "\n",
    "For example : Roughly 5 teams have improved by 100 % "
   ]
  },
  {
   "cell_type": "markdown",
   "metadata": {},
   "source": [
    "### Research Question 4-Which team have improved the most  2008/2009 to 2015/2016 season ? "
   ]
  },
  {
   "cell_type": "code",
   "execution_count": 570,
   "metadata": {},
   "outputs": [
    {
     "name": "stdout",
     "output_type": "stream",
     "text": [
      "Most improved team from 2008/2009 season to 2015/2016 season\n"
     ]
    },
    {
     "data": {
      "text/html": [
       "<div>\n",
       "<style scoped>\n",
       "    .dataframe tbody tr th:only-of-type {\n",
       "        vertical-align: middle;\n",
       "    }\n",
       "\n",
       "    .dataframe tbody tr th {\n",
       "        vertical-align: top;\n",
       "    }\n",
       "\n",
       "    .dataframe thead th {\n",
       "        text-align: right;\n",
       "    }\n",
       "</style>\n",
       "<table border=\"1\" class=\"dataframe\">\n",
       "  <thead>\n",
       "    <tr style=\"text-align: right;\">\n",
       "      <th></th>\n",
       "      <th>team_api_id</th>\n",
       "      <th>wins_count_2008</th>\n",
       "      <th>wins_count_2016</th>\n",
       "      <th>improvement</th>\n",
       "      <th>id</th>\n",
       "      <th>team_fifa_api_id</th>\n",
       "      <th>team_long_name</th>\n",
       "      <th>team_short_name</th>\n",
       "    </tr>\n",
       "  </thead>\n",
       "  <tbody>\n",
       "    <tr>\n",
       "      <th>67</th>\n",
       "      <td>9788</td>\n",
       "      <td>8</td>\n",
       "      <td>17</td>\n",
       "      <td>112.5</td>\n",
       "      <td>15631</td>\n",
       "      <td>23.0</td>\n",
       "      <td>Borussia Mönchengladbach</td>\n",
       "      <td>GLA</td>\n",
       "    </tr>\n",
       "  </tbody>\n",
       "</table>\n",
       "</div>"
      ],
      "text/plain": [
       "    team_api_id  wins_count_2008  wins_count_2016  improvement     id  \\\n",
       "67         9788                8               17        112.5  15631   \n",
       "\n",
       "    team_fifa_api_id            team_long_name team_short_name  \n",
       "67              23.0  Borussia Mönchengladbach             GLA  "
      ]
     },
     "execution_count": 570,
     "metadata": {},
     "output_type": "execute_result"
    }
   ],
   "source": [
    "team_wins_count_2008_2016 = pd.merge(team_wins_count_2008_2016, team_df, on ='team_api_id', how =\"inner\")\n",
    "print('Most improved team from 2008/2009 season to 2015/2016 season')\n",
    "team_wins_count_2008_2016[team_wins_count_2008_2016['improvement'] == team_wins_count_2008_2016['improvement'].max()]"
   ]
  },
  {
   "cell_type": "markdown",
   "metadata": {},
   "source": [
    "As we ca see from the previews data ,  Borussia Mönchengladbach\t was the team that have improved the most from 2008/2009 to 2015/2016 , as it has improved by 112.5 %"
   ]
  },
  {
   "cell_type": "markdown",
   "metadata": {},
   "source": [
    "### Research Question 5-Which team have degraded the most  2008/2009 to 2015/2016 season ? "
   ]
  },
  {
   "cell_type": "code",
   "execution_count": 571,
   "metadata": {},
   "outputs": [
    {
     "name": "stdout",
     "output_type": "stream",
     "text": [
      "Most degraded team from 2008/2009 season to 2015/2016 season\n"
     ]
    },
    {
     "data": {
      "text/html": [
       "<div>\n",
       "<style scoped>\n",
       "    .dataframe tbody tr th:only-of-type {\n",
       "        vertical-align: middle;\n",
       "    }\n",
       "\n",
       "    .dataframe tbody tr th {\n",
       "        vertical-align: top;\n",
       "    }\n",
       "\n",
       "    .dataframe thead th {\n",
       "        text-align: right;\n",
       "    }\n",
       "</style>\n",
       "<table border=\"1\" class=\"dataframe\">\n",
       "  <thead>\n",
       "    <tr style=\"text-align: right;\">\n",
       "      <th></th>\n",
       "      <th>team_api_id</th>\n",
       "      <th>wins_count_2008</th>\n",
       "      <th>wins_count_2016</th>\n",
       "      <th>improvement</th>\n",
       "      <th>id</th>\n",
       "      <th>team_fifa_api_id</th>\n",
       "      <th>team_long_name</th>\n",
       "      <th>team_short_name</th>\n",
       "    </tr>\n",
       "  </thead>\n",
       "  <tbody>\n",
       "    <tr>\n",
       "      <th>124</th>\n",
       "      <td>10252</td>\n",
       "      <td>17</td>\n",
       "      <td>3</td>\n",
       "      <td>-82.352941</td>\n",
       "      <td>3465</td>\n",
       "      <td>2.0</td>\n",
       "      <td>Aston Villa</td>\n",
       "      <td>AVL</td>\n",
       "    </tr>\n",
       "  </tbody>\n",
       "</table>\n",
       "</div>"
      ],
      "text/plain": [
       "     team_api_id  wins_count_2008  wins_count_2016  improvement    id  \\\n",
       "124        10252               17                3   -82.352941  3465   \n",
       "\n",
       "     team_fifa_api_id team_long_name team_short_name  \n",
       "124               2.0    Aston Villa             AVL  "
      ]
     },
     "execution_count": 571,
     "metadata": {},
     "output_type": "execute_result"
    }
   ],
   "source": [
    "print('Most degraded team from 2008/2009 season to 2015/2016 season')\n",
    "team_wins_count_2008_2016[team_wins_count_2008_2016['improvement'] == team_wins_count_2008_2016['improvement'].min()]"
   ]
  },
  {
   "cell_type": "markdown",
   "metadata": {},
   "source": [
    "As we ca see from the previews data ,  Aston Villa\t was the team that have degraded the most from 2008/2009 to 2015/2016 , as it has degraded by 82.352941%"
   ]
  },
  {
   "cell_type": "markdown",
   "metadata": {},
   "source": [
    "<a id='conclusions'></a>\n",
    "## Conclusions\n",
    "\n",
    "### Here are the key points of our sythesis\n",
    "\n",
    "\n",
    "\n",
    "> Being in you home field has more advantage than being in away field as we saw from our analysis , mean of number of goals in Home field = 1.732 and mean of number of goals in Away field = 1.218   it makes sense because in your home field you have more fans than you your opponent which can encourage you to score more goals\n",
    "\n",
    "> Most number of wins every season: [You can see the graph here](#Top_teams_wins_every_season)  \n",
    "\n",
    ">2008/2009 season -- > Manchester United with 28 wins  ,  Results are accurate as we can see from wikipedia : [here](https://en.wikipedia.org/wiki/2008%E2%80%9309_Premier_League)\n",
    "\n",
    ">2009/2010 season -- > Real Madrid CF ,  FC Barcelona with 31 wins  , Results are accurate as we can see from wikipedia : [here](https://en.wikipedia.org/wiki/2009%E2%80%9310_La_Liga) \n",
    "\n",
    ">2010/2011 season -- > Rangers ,  FC Barcelona with 30 wins  , Results are accurate as we can see from wikipedia : [here](https://en.wikipedia.org/wiki/2010%E2%80%9311_La_Liga)  \n",
    "\n",
    ">2011/2012 season -- > Real Madrid CF with 32 wins  , Results are accurate as we can see from wikipedia : [here](https://en.wikipedia.org/wiki/2011%E2%80%9312_La_Liga)  \n",
    "\n",
    ">2012/2013 season -- > FC Barcelona with 32 wins  , Results are accurate as we can see from wikipedia : [here](https://en.wikipedia.org/wiki/2011%E2%80%9312_La_Liga)  \n",
    "\n",
    ">2013/2014 season -- > Juventus with 33 wins  , Results are accurate as we can see from wikipedia : [here](https://en.wikipedia.org/wiki/2013%E2%80%9314_Serie_A) \n",
    "\n",
    ">2014/2015 season -- > Real Madrid CF ,  FC Barcelona with 30 wins , Results are accurate as we can see from wikipedia : [here](https://en.wikipedia.org/wiki/2014%E2%80%9315_La_Liga)  \n",
    "\n",
    ">2015/2016 season -- > Paris Saint-Germain with 30 wins , Results are accurate as we can here : [here](https://terrikon.com/soccer/france/championship/2015-16/table)  \n",
    "\n",
    "\n",
    ">we can see that the top number of wins range from 28 --> 33  \n",
    "\n",
    "\n",
    "\n",
    "\n",
    ">Most number of losses every season : [You can see the graph here](#Top_teams_losses_every_season)  \n",
    "\n",
    ">2008/2009 season -- > Le Havre AC with 26 losses  ,  Results are accurate as we can here : [here](https://fbref.com/en/squads/5c2737db/2008-2009/Le-Havre-Stats)  \n",
    "\n",
    ">2009/2010 season -- > RKC Waalwijk with 29 losses  , Results are accurate as we can here : [here](https://nl.wikipedia.org/wiki/RKC_Waalwijk_in_het_seizoen_2009/10) \n",
    "\n",
    ">2010/2011 season -- > Willem II ,  VVV-Venlo with 25 losses  , Results are accurate as we can here : [here](https://tribuna.com/en/clubs/willem-ii/table/2010-2011/) \n",
    "\n",
    ">2011/2012 season -- > Blackburn Rovers,  Wolverhampton Wanderers ,  Excelsior ,  Dunfermline Athletic with 23 losses  , Results are accurate as we can here : [here](https://fbref.com/en/squads/e090f40b/2011-2012/Blackburn-Rovers-Stats) \n",
    "\n",
    ">2012/2013 season -- > Pescara  with 28 losses  , Results are accurate as we can here : [here](https://en.wikipedia.org/wiki/2012%E2%80%9313_Delfino_Pescara_1936_season) \n",
    "\n",
    ">2013/2014 season -- > FC Lausanne-Sports with 26 losses  , Results are accurate as we can here : [here](https://fbref.com/en/squads/2864c5a0/2013-2014/s692/Lausanne-Sport-Stats-Swiss-Super-League) \n",
    "\n",
    ">2014/2015 season -- > St. Mirren with 26 losses  , Results are accurate as we can here : [here](https://en.wikipedia.org/wiki/2014%E2%80%9315_St_Mirren_F.C._season) \n",
    "\n",
    ">2015/2016 season -- > Aston Villa with 27 losses  , Results are accurate as we can here : [here](https://en.wikipedia.org/wiki/2015%E2%80%9316_Aston_Villa_F.C._season) \n",
    "\n",
    ">we can see that the top number of losses range from 23 --> 29\n",
    "\n",
    "> Distributions of number of wins in 2008/2009 and 2015/2016 do not have major changes as the distributions are almost the same as we can see from this distribution [here](#season_wins_distribution)\n",
    "\n",
    ">More teams have degraded by 1% - 50% , less teams have improved by 1% - 50% .\n",
    "\n",
    ">Team have improved the most  2008/2009 to 2015/2016 season : Borussia Mönchengladbach\n",
    "\n",
    ">Team have degraded the most  2008/2009 to 2015/2016 season : Aston Villa\n",
    "\n",
    "\n",
    "### Limitations and assumptions : \n",
    "> I assume that data of matches is complete and accurate and there is no need to collect more data about the matches for the specified seasons.\n",
    "> I assume that improvement is calculated only by the number of wins .\n",
    "\n",
    "### How it can be improved ?\n",
    "> it could be improved by adding the number of losses and number of draws in the calculation."
   ]
  },
  {
   "cell_type": "code",
   "execution_count": 501,
   "metadata": {},
   "outputs": [
    {
     "data": {
      "text/plain": [
       "1"
      ]
     },
     "execution_count": 501,
     "metadata": {},
     "output_type": "execute_result"
    }
   ],
   "source": [
    "from subprocess import call\n",
    "call(['python', '-m', 'nbconvert', 'Investigate_a_Dataset.ipynb'])"
   ]
  },
  {
   "cell_type": "code",
   "execution_count": null,
   "metadata": {},
   "outputs": [],
   "source": []
  }
 ],
 "metadata": {
  "kernelspec": {
   "display_name": "Python 3",
   "language": "python",
   "name": "python3"
  },
  "language_info": {
   "codemirror_mode": {
    "name": "ipython",
    "version": 3
   },
   "file_extension": ".py",
   "mimetype": "text/x-python",
   "name": "python",
   "nbconvert_exporter": "python",
   "pygments_lexer": "ipython3",
   "version": "3.8.8"
  }
 },
 "nbformat": 4,
 "nbformat_minor": 2
}
